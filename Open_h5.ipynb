{
 "cells": [
  {
   "cell_type": "markdown",
   "metadata": {},
   "source": [
    "## Testing h5 file\n",
    "This will hopefully let me open and use all needed info from Fuel Type.h5 to map Leon's fuel type map."
   ]
  },
  {
   "cell_type": "markdown",
   "metadata": {},
   "source": [
    "## Read in file\n",
    "Common call: file path...\n",
    ".h5 file is created in: /home/565/kh1496/python/fuel_type_dataser.py"
   ]
  },
  {
   "cell_type": "code",
   "execution_count": 2,
   "metadata": {},
   "outputs": [
    {
     "data": {
      "text/plain": [
       "<KeysViewHDF5 ['FBM image', 'FBM legend', 'lat', 'lon']>"
      ]
     },
     "execution_count": 2,
     "metadata": {},
     "output_type": "execute_result"
    }
   ],
   "source": [
    "import numpy as np\n",
    "import h5py\n",
    "\n",
    "#To open and read data we use the same File method in read mode, r.\n",
    "hf = h5py.File('Fuel_Type.h5', 'r')\n",
    "\n",
    "#To see what data is in this file, we can call the keys() method on the file object.\n",
    "hf.keys()\n",
    "#[u'group1']"
   ]
  },
  {
   "cell_type": "code",
   "execution_count": 3,
   "metadata": {},
   "outputs": [
    {
     "name": "stdout",
     "output_type": "stream",
     "text": [
      "legend (9,)\n",
      "[b'Buttongrass' b'Grassland' b'Heathland' b'Mallee heath'\n",
      " b'Non_combustible' b'Pine' b'Savanna' b'Spinifex' b'Vesta']\n",
      "lat (2940,)\n",
      "lon (2892,)\n"
     ]
    }
   ],
   "source": [
    "#We can then grab each dataset we created above using the get method, specifying the name.\n",
    "FBM_legend = hf.get('FBM legend')\n",
    "lat = hf.get('lat')\n",
    "lon = hf.get('lon')\n",
    "FBM_image = hf.get('FBM image')\n",
    "\n",
    "#This returns a HDF5 dataset object. To convert this to an array, just call numpy’s array method.\n",
    "FBM_legend = np.array(FBM_legend)\n",
    "print('legend', FBM_legend.shape)\n",
    "print(FBM_legend)\n",
    "\n",
    "lat = np.array(lat)\n",
    "print('lat', lat.shape)\n",
    "lon = np.array(lon)\n",
    "print('lon', lon.shape)\n",
    "\n",
    "#hf.close()"
   ]
  },
  {
   "cell_type": "markdown",
   "metadata": {},
   "source": [
    "## Creating the Map\n",
    "Code is from leon_fuel_type_v2.py"
   ]
  },
  {
   "cell_type": "code",
   "execution_count": null,
   "metadata": {},
   "outputs": [],
   "source": [
    "#FBM_image.plot()"
   ]
  },
  {
   "cell_type": "code",
   "execution_count": 7,
   "metadata": {},
   "outputs": [
    {
     "data": {
      "text/plain": [
       "<Figure size 432x288 with 0 Axes>"
      ]
     },
     "metadata": {},
     "output_type": "display_data"
    }
   ],
   "source": [
    "import matplotlib.pyplot as plt\n",
    "# similar to the gabby help example, leon_landcover_map_example.py)\n",
    "classes = FBM_legend\n",
    "class_colors = np.array([(123,141,245), (255,235,190), (168,0,0), (136,70,65), (0,37,115), (115,67,137), (199,215,160), (220,157,1), (57,165,9)])/255.\n",
    "\n",
    "\n",
    "# anyway, we can now create a listed colour map / discrete colour map easily\n",
    "import matplotlib.colors as colors\n",
    "cmap = colors.ListedColormap(class_colors)\n",
    "\n",
    "#--- think about the figure size\n",
    "# how big do we want the output to be? \n",
    "output_x_size = 1600\n",
    "output_y_size = 900\n",
    "\n",
    "# pyplot specifies figure size in inches (dpi = dots per inch = anything, but 72 is a magic number from print days)\n",
    "dpi = 72\n",
    "\n",
    "#---\n",
    "# mapping library\n",
    "# we are working with lat/lon aka PlateCarree (https://scitools.org.uk/cartopy/docs/v0.15/crs/projections.html)\n",
    "# crs is going to hold the projection that we want the map to be on\n",
    "import cartopy.crs as ccrs\n",
    "crs = ccrs.PlateCarree()\n",
    "# the extent of the image... in map coordinates\n",
    "extent = [lon.min(), lon.max(), lat.min(), lat.max()]\n",
    "\n",
    "#---\n",
    "# plotting can be complicated... main points are we want a 1x1 plot window that will output something like a 1600x900 image\n",
    "# here, we specify that we want the plots to know that they are \n",
    "plt.clf()\n",
    "fig, ax = plt.subplots(1, 1,\n",
    "            figsize=(output_x_size/dpi, output_y_size/dpi), dpi=dpi,\n",
    "            subplot_kw={'projection': crs})\n",
    "\n",
    "# tell pyplot the map extent, and that the map extent is specified in our \"map\" projection - use all of it (map_extent)\n",
    "map_extent = extent\n",
    "ax.set_extent(map_extent, crs=crs)\n",
    "\n",
    "img = plt.imshow(FBM_image, \n",
    "    extent=extent, \n",
    "    transform=crs, \n",
    "    interpolation='nearest', \n",
    "    cmap=cmap, \n",
    "    origin='lower')\n",
    "\n",
    "ax.coastlines(resolution='10m', color='black', linewidth=1)\n",
    "ax.gridlines(draw_labels=True, linewidth=2, color='gray', alpha=0.5, linestyle='--')\n",
    "\n",
    "# instead, a legend is much better for this type of information\n",
    "# https://stackoverflow.com/questions/25482876/how-to-add-legend-to-imshow-in-matplotlib\n",
    "import matplotlib.patches as mpatches\n",
    "# get the colors of the values, according to the colormap used by imshow\n",
    "values = np.arange(len(classes))\n",
    "img_colors = [ img.cmap(img.norm(value)) for value in values ]\n",
    "# create a patch (proxy artist) for every color \n",
    "patches = [ mpatches.Patch(color=img_colors[i], label=\"{l}\".format(l=classes[i]) ) for i in range(len(classes)) ]\n",
    "# put those patched as legend-handles into the legend\n",
    "# loc = 1 --> upper right (https://matplotlib.org/3.1.1/api/_as_gen/matplotlib.pyplot.legend.html)\n",
    "plt.legend(handles=patches, loc=1)\n",
    "\n",
    "plt.savefig(\"FBM_image_v3_aus.png\")\n",
    "plt.close()\n",
    "\n",
    "\n",
    "\n",
    "#---\n",
    "# plotting can be complicated... main points are we want a 1x1 plot window that will output something like a 1600x900 image\n",
    "# here, we specify that we want the plots to know that they are \n",
    "plt.clf()\n",
    "fig, ax = plt.subplots(1, 1,\n",
    "            figsize=(output_x_size/dpi, output_y_size/dpi), dpi=dpi,\n",
    "            subplot_kw={'projection': crs})\n",
    "\n",
    "# tell pyplot the map extent, and that the map extent is specified in our \"map\" projection - use only the bit that covers VIC\n",
    "map_extent = [140.5, 150.5, -39.5, -33.5]\n",
    "ax.set_extent(map_extent, crs=crs)\n",
    "\n",
    "img = plt.imshow(FBM_image, \n",
    "    extent=extent, \n",
    "    transform=crs, \n",
    "    interpolation='nearest', \n",
    "    cmap=cmap, \n",
    "    origin='lower')\n",
    "\n",
    "# ax.coastlines(resolution='10m', color='black', linewidth=1)\n",
    "# ax.gridlines(draw_labels=True, linewidth=2, color='gray', alpha=0.5, linestyle='--')\n",
    "\n",
    "# instead, a legend is much better for this type of information\n",
    "# https://stackoverflow.com/questions/25482876/how-to-add-legend-to-imshow-in-matplotlib\n",
    "import matplotlib.patches as mpatches\n",
    "# get the colors of the values, according to the colormap used by imshow\n",
    "values = np.arange(len(classes))\n",
    "img_colors = [ img.cmap(img.norm(value)) for value in values ]\n",
    "# create a patch (proxy artist) for every color \n",
    "patches = [ mpatches.Patch(color=img_colors[i], label=\"{l}\".format(l=classes[i]) ) for i in range(len(classes)) ]\n",
    "# put those patched as legend-handles into the legend\n",
    "# loc = 1 --> upper right (https://matplotlib.org/3.1.1/api/_as_gen/matplotlib.pyplot.legend.html)\n",
    "plt.legend(handles=patches, loc=1)\n",
    "\n",
    "plt.savefig(\"FBM_image_v3_vic.png\")\n",
    "plt.close()\n"
   ]
  }
 ],
 "metadata": {
  "interpreter": {
   "hash": "15642ad7cb8dbefe63ff9543889036aaecfa61f0ee35ee9b3916528c8f024895"
  },
  "kernelspec": {
   "display_name": "Python 3.9.9 64-bit ('analysis3-21.10')",
   "language": "python",
   "name": "python3"
  },
  "language_info": {
   "codemirror_mode": {
    "name": "ipython",
    "version": 3
   },
   "file_extension": ".py",
   "mimetype": "text/x-python",
   "name": "python",
   "nbconvert_exporter": "python",
   "pygments_lexer": "ipython3",
   "version": "3.9.9"
  },
  "orig_nbformat": 4
 },
 "nbformat": 4,
 "nbformat_minor": 2
}
